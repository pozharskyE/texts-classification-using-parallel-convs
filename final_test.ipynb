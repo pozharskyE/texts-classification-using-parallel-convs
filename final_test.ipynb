{
 "cells": [
  {
   "cell_type": "code",
   "execution_count": 19,
   "metadata": {},
   "outputs": [],
   "source": [
    "import pandas as pd \n",
    "import numpy as np \n",
    "\n",
    "import torch\n",
    "\n",
    "import os\n",
    "import sys\n",
    "sys.path.append(os.path.abspath('./src'))\n",
    "sys.path.append(os.path.abspath('./src/data_preprocessing'))\n",
    "sys.path.append(os.path.abspath('./src/architectures'))\n",
    "\n",
    "# Data processing\n",
    "from torch.utils.data import DataLoader\n",
    "from data_preprocessing.custom_preprocess import custom_preprocess\n",
    "from data_preprocessing.custom_dataset import CustomDataset\n",
    "from data_preprocessing.load_cached_or_preprocess_and_cache import load_cached_or_preprocess_and_cache\n",
    "\n",
    "import spacy"
   ]
  },
  {
   "cell_type": "code",
   "execution_count": 3,
   "metadata": {},
   "outputs": [
    {
     "data": {
      "text/plain": [
       "<torch._C.Generator at 0x138df6b6cd0>"
      ]
     },
     "execution_count": 3,
     "metadata": {},
     "output_type": "execute_result"
    }
   ],
   "source": [
    "device = 'cuda'\n",
    "torch.manual_seed(42)"
   ]
  },
  {
   "cell_type": "code",
   "execution_count": 4,
   "metadata": {},
   "outputs": [],
   "source": [
    "model = torch.load('./models/best_model_paral_conv_linear.pt')"
   ]
  },
  {
   "cell_type": "code",
   "execution_count": 4,
   "metadata": {},
   "outputs": [
    {
     "name": "stdout",
     "output_type": "stream",
     "text": [
      "All cached subsets were found, loading...\n",
      "Loaded!\n"
     ]
    }
   ],
   "source": [
    "df = pd.read_csv('./sampled_df.csv')\n",
    "\n",
    "\n",
    "USE_PREPROCESSED_SUBSETS_CACHING = True\n",
    "\n",
    "folder = './cached_subsets/'\n",
    "\n",
    "if USE_PREPROCESSED_SUBSETS_CACHING:\n",
    "    X_train, X_dev, X_test, y_train, y_dev, y_test = load_cached_or_preprocess_and_cache(df, folder)\n",
    "\n",
    "else:\n",
    "    X_train, X_dev, X_test, y_train, y_dev, y_test = custom_preprocess(df, dev_size=0.15, test_size=0.15, even_dist=True)\n",
    "\n",
    "train_ds = CustomDataset(X_train, y_train)\n",
    "dev_ds = CustomDataset(X_dev, y_dev)\n",
    "test_ds = CustomDataset(X_test, y_test)\n",
    "\n",
    "batch_size = 64\n",
    "\n",
    "train_dl = DataLoader(train_ds, batch_size=batch_size, shuffle=False, drop_last=True)\n",
    "dev_dl = DataLoader(dev_ds, batch_size=batch_size, shuffle=False, drop_last=True)\n",
    "test_dl = DataLoader(test_ds, batch_size=batch_size, shuffle=False, drop_last=True)\n",
    "\n",
    "loss_fn = torch.nn.BCELoss()"
   ]
  },
  {
   "cell_type": "code",
   "execution_count": 5,
   "metadata": {},
   "outputs": [
    {
     "name": "stdout",
     "output_type": "stream",
     "text": [
      "Train\n",
      "Loss: 0.09492773565104584 Accuracy: 97.418 %\n",
      "------------\n",
      "Dev\n",
      "Loss: 0.15963801041972348 Accuracy: 93.969 %\n",
      "------------\n",
      "Test\n",
      "Loss: 0.1762202772788885 Accuracy: 93.045 %\n",
      "------------\n"
     ]
    }
   ],
   "source": [
    "from test_fn import test\n",
    "\n",
    "test(model=model, \n",
    "     dataloaders=[train_dl, dev_dl, test_dl], \n",
    "     loss_fn=loss_fn, \n",
    "     model_device=device)"
   ]
  },
  {
   "cell_type": "code",
   "execution_count": 42,
   "metadata": {},
   "outputs": [
    {
     "name": "stdout",
     "output_type": "stream",
     "text": [
      "Prediction for text \"Horrible movie. Definetelly do not recommend\": 0.026074232533574104\n",
      "Prediction for text \"Everything was nice. I really loved this movie\": 0.9911736845970154\n",
      "Prediction for text \"It was average. Not good, not bad. Just decent\": 0.04250673949718475\n",
      "Prediction for text \"Almost perfect. It was just not enough drama for me. But the rest is good\": 0.7048246264457703\n"
     ]
    }
   ],
   "source": [
    "nlp = spacy.load('en_core_web_lg')\n",
    "\n",
    "def text_2_matrix(text):\n",
    "    doc = nlp(text)\n",
    "    mat = torch.tensor(np.array([token.vector for token in doc])).T\n",
    "    return mat\n",
    "\n",
    "def predict_from_text(text):\n",
    "    mat = text_2_matrix(text).unsqueeze(0).to(device)\n",
    "    return model(mat).item()\n",
    "\n",
    "texts = ['Horrible movie. Definetelly do not recommend', 'Everything was nice. I really loved this movie', 'It was average. Not good, not bad. Just decent', 'Almost perfect. It was just not enough drama for me. But the rest is good']\n",
    "\n",
    "for text in texts:\n",
    "    pred = predict_from_text(text)\n",
    "    print(f'Prediction for text \"{text}\": {pred}')"
   ]
  }
 ],
 "metadata": {
  "kernelspec": {
   "display_name": ".ml-pytorch1",
   "language": "python",
   "name": "python3"
  },
  "language_info": {
   "codemirror_mode": {
    "name": "ipython",
    "version": 3
   },
   "file_extension": ".py",
   "mimetype": "text/x-python",
   "name": "python",
   "nbconvert_exporter": "python",
   "pygments_lexer": "ipython3",
   "version": "3.11.6"
  }
 },
 "nbformat": 4,
 "nbformat_minor": 2
}
