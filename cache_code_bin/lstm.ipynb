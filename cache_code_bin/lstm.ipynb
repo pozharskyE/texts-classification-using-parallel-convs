{
 "cells": [
  {
   "cell_type": "code",
   "execution_count": 1,
   "metadata": {},
   "outputs": [],
   "source": [
    "import numpy as np \n",
    "import pandas as pd \n",
    "\n",
    "import torch\n",
    "from torch import nn\n",
    "from torch.functional import F"
   ]
  },
  {
   "cell_type": "code",
   "execution_count": 2,
   "metadata": {},
   "outputs": [],
   "source": [
    "device = 'cuda'"
   ]
  },
  {
   "cell_type": "code",
   "execution_count": 54,
   "metadata": {},
   "outputs": [],
   "source": [
    "class LSTM(nn.Module):\n",
    "    def __init__(self, hidden_size, input_size):\n",
    "        super().__init__()\n",
    "\n",
    "        self.hidden_size = hidden_size\n",
    "        self.input_size = input_size\n",
    "\n",
    "        # forget gate\n",
    "        self.W_fh = nn.Parameter(torch.rand((hidden_size, hidden_size)), requires_grad=True)\n",
    "        self.W_fx = nn.Parameter(torch.rand((hidden_size, input_size)), requires_grad=True)\n",
    "        self.b_f = nn.Parameter(torch.rand((hidden_size, 1)), requires_grad=True)\n",
    "        \n",
    "        # update gate (aka input gate)\n",
    "        self.W_uh = nn.Parameter(torch.rand((hidden_size, hidden_size)), requires_grad=True)\n",
    "        self.W_ux = nn.Parameter(torch.rand((hidden_size, input_size)), requires_grad=True)\n",
    "        self.b_u = nn.Parameter(torch.rand((hidden_size, 1)), requires_grad=True)\n",
    "\n",
    "        # output gate\n",
    "        self.W_oh = nn.Parameter(torch.rand((hidden_size, hidden_size)), requires_grad=True)\n",
    "        self.W_ox = nn.Parameter(torch.rand((hidden_size, input_size)), requires_grad=True)\n",
    "        self.b_o = nn.Parameter(torch.rand((hidden_size, 1)), requires_grad=True)\n",
    "\n",
    "        # candidate for new c\n",
    "        self.W_ch = nn.Parameter(torch.rand((hidden_size, hidden_size)), requires_grad=True)\n",
    "        self.W_cx = nn.Parameter(torch.rand((hidden_size, input_size)), requires_grad=True)\n",
    "        self.b_c = nn.Parameter(torch.rand((hidden_size, 1)), requires_grad=True)\n",
    "\n",
    "\n",
    "    # x should be of shape (input_size, 1)\n",
    "    def forward(self, c_prev, h_prev, x):\n",
    "        if x.shape != (self.input_size, 1):\n",
    "            raise ValueError('x.shape != (input_size, 1)')\n",
    "\n",
    "\n",
    "        f = torch.matmul(self.W_fh, h_prev) + torch.matmul(self.W_fx, x) + self.b_f\n",
    "        f = F.sigmoid(f)\n",
    "        # print(f'f shape: {f.shape}')\n",
    "\n",
    "        u = torch.matmul(self.W_uh, h_prev) + torch.matmul(self.W_ux, x) + self.b_u\n",
    "        u = F.sigmoid(u)\n",
    "        # print(f'u shape: {u.shape}')\n",
    "\n",
    "        o = torch.matmul(self.W_oh, h_prev) + torch.matmul(self.W_ox, x) + self.b_o \n",
    "        o = F.sigmoid(o)\n",
    "        # print(f'o shape: {o.shape}')\n",
    "\n",
    "        c_cand = torch.matmul(self.W_ch, h_prev) + torch.matmul(self.W_cx, x) + self.b_c\n",
    "        c_cand = F.tanh(c_cand)\n",
    "        # print(f'c_cand shape: {c_cand.shape}')\n",
    "\n",
    "        c = (u * c_cand) + (f * c_prev)\n",
    "        # print(f'c shape: {c.shape}')\n",
    "\n",
    "        h = o * F.tanh(c)\n",
    "\n",
    "        return c, h\n",
    "        "
   ]
  },
  {
   "cell_type": "code",
   "execution_count": 55,
   "metadata": {},
   "outputs": [],
   "source": [
    "lstm_model = LSTM(hidden_size=3, input_size=5).to(device)"
   ]
  },
  {
   "cell_type": "code",
   "execution_count": 56,
   "metadata": {},
   "outputs": [],
   "source": [
    "c_prev = torch.zeros((3, 1), dtype=torch.float32).to(device)\n",
    "h_prev = torch.zeros((3, 1), dtype=torch.float32).to(device)\n",
    "\n",
    "x = torch.tensor([[1, 2, 3, 4, 5]], dtype=torch.float32).T.to(device)\n",
    "\n",
    "c, h = lstm_model(c_prev=c_prev, h_prev=h_prev, x=x)"
   ]
  },
  {
   "cell_type": "code",
   "execution_count": 57,
   "metadata": {},
   "outputs": [
    {
     "data": {
      "text/plain": [
       "(tensor([[0.9972],\n",
       "         [1.0000],\n",
       "         [0.9994]], device='cuda:0', grad_fn=<AddBackward0>),\n",
       " tensor([[0.7604],\n",
       "         [0.7611],\n",
       "         [0.7614]], device='cuda:0', grad_fn=<MulBackward0>))"
      ]
     },
     "execution_count": 57,
     "metadata": {},
     "output_type": "execute_result"
    }
   ],
   "source": [
    "c, h"
   ]
  },
  {
   "cell_type": "code",
   "execution_count": 48,
   "metadata": {},
   "outputs": [],
   "source": [
    "X = [[[1]], [[2]], [[3]], [[4]], [[5]]]\n",
    "y = [[[6]]]"
   ]
  }
 ],
 "metadata": {
  "kernelspec": {
   "display_name": ".ml-pytorch1",
   "language": "python",
   "name": "python3"
  },
  "language_info": {
   "codemirror_mode": {
    "name": "ipython",
    "version": 3
   },
   "file_extension": ".py",
   "mimetype": "text/x-python",
   "name": "python",
   "nbconvert_exporter": "python",
   "pygments_lexer": "ipython3",
   "version": "3.11.6"
  }
 },
 "nbformat": 4,
 "nbformat_minor": 2
}
