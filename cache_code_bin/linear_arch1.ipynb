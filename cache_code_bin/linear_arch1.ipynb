{
 "cells": [
  {
   "cell_type": "code",
   "execution_count": 1,
   "metadata": {},
   "outputs": [],
   "source": [
    "import pandas as pd\n",
    "import gzip\n",
    "import json\n",
    "\n",
    "import numpy as np \n",
    "import matplotlib.pyplot as plt\n",
    "\n",
    "import spacy\n",
    "import torch\n",
    "import torch.nn as nn\n",
    "import torch.optim as optim\n",
    "from sklearn.model_selection import train_test_split\n",
    "\n",
    "from live_plot import LivePlot"
   ]
  },
  {
   "cell_type": "code",
   "execution_count": 2,
   "metadata": {},
   "outputs": [],
   "source": [
    "device = 'cuda'"
   ]
  },
  {
   "cell_type": "code",
   "execution_count": 4,
   "metadata": {},
   "outputs": [],
   "source": [
    "df = pd.read_csv('./../sampled_df.csv')"
   ]
  },
  {
   "cell_type": "code",
   "execution_count": 21,
   "metadata": {},
   "outputs": [],
   "source": [
    "X_train, X_test, y_train, y_test = X_train.to(device), X_test.to(device), y_train.to(device), y_test.to(device)"
   ]
  },
  {
   "cell_type": "code",
   "execution_count": 22,
   "metadata": {},
   "outputs": [],
   "source": [
    "input_size = 300\n",
    "output_size = 1"
   ]
  },
  {
   "cell_type": "code",
   "execution_count": 23,
   "metadata": {},
   "outputs": [],
   "source": [
    "class SentimentBinaryClass(nn.Module):\n",
    "  def __init__(self, input_size, output_size):\n",
    "    super().__init__()\n",
    "    \n",
    "    self.linear_relu_sigmoid = nn.Sequential(\n",
    "      nn.Linear(input_size, 2048),\n",
    "      nn.ReLU(),\n",
    "      nn.Linear(2048, 4096),\n",
    "      nn.ReLU(),\n",
    "      nn.Linear(4096, output_size),\n",
    "      nn.Sigmoid()\n",
    "    )\n",
    "\n",
    "\n",
    "  def forward(self, x):\n",
    "    return self.linear_relu_sigmoid(x)\n"
   ]
  },
  {
   "cell_type": "code",
   "execution_count": 24,
   "metadata": {},
   "outputs": [],
   "source": [
    "model = SentimentBinaryClass(input_size, output_size).to(device)"
   ]
  },
  {
   "cell_type": "code",
   "execution_count": 25,
   "metadata": {},
   "outputs": [],
   "source": [
    "cost_fn = nn.BCELoss()\n",
    "optimizer = optim.Adam(model.parameters(), lr=0.0001, weight_decay=0.02)\n",
    "\n",
    "cost_histroty = []\n",
    "cost_test_history = []\n"
   ]
  },
  {
   "cell_type": "code",
   "execution_count": 26,
   "metadata": {},
   "outputs": [],
   "source": [
    "plt.close()\n",
    "%matplotlib qt\n",
    "live_plot = LivePlot()"
   ]
  },
  {
   "cell_type": "code",
   "execution_count": 47,
   "metadata": {},
   "outputs": [
    {
     "name": "stdout",
     "output_type": "stream",
     "text": [
      "Epoch 0\n",
      "Epoch 1\n",
      "Epoch 2\n",
      "Epoch 3\n",
      "Epoch 4\n",
      "Epoch 5\n",
      "Epoch 6\n",
      "Epoch 7\n",
      "Epoch 8\n",
      "Epoch 9\n",
      "Epoch 10\n",
      "Epoch 11\n",
      "Epoch 12\n",
      "Epoch 13\n",
      "Epoch 14\n",
      "Epoch 15\n",
      "Epoch 16\n",
      "Epoch 17\n",
      "Epoch 18\n",
      "Epoch 19\n",
      "Epoch 20\n",
      "Epoch 21\n",
      "Epoch 22\n",
      "Epoch 23\n",
      "Epoch 24\n",
      "Epoch 25\n",
      "Epoch 26\n",
      "Epoch 27\n",
      "Epoch 28\n",
      "Epoch 29\n",
      "Epoch 30\n",
      "Epoch 31\n",
      "Epoch 32\n",
      "Epoch 33\n",
      "Epoch 34\n",
      "Epoch 35\n",
      "Epoch 36\n",
      "Epoch 37\n",
      "Epoch 38\n",
      "Epoch 39\n",
      "Epoch 40\n",
      "Epoch 41\n",
      "Epoch 42\n",
      "Epoch 43\n",
      "Epoch 44\n",
      "Epoch 45\n",
      "Epoch 46\n",
      "Epoch 47\n",
      "Epoch 48\n",
      "Epoch 49\n"
     ]
    }
   ],
   "source": [
    "for epoch in range(50):\n",
    "  print(f'Epoch {epoch}')\n",
    "  optimizer.zero_grad()\n",
    "  outputs = model(X_train)\n",
    "  cost = cost_fn(outputs, y_train)\n",
    "  cost.backward()\n",
    "  optimizer.step()\n",
    "\n",
    "\n",
    "  test_outputs = model(X_test)\n",
    "  cost_test = cost_fn(test_outputs, y_test)\n",
    "\n",
    "  live_plot.update(cost_histroty, cost_test_history)\n",
    "\n",
    "  cost_test_history.append(cost_test.item())\n",
    "  cost_histroty.append(cost.item())"
   ]
  },
  {
   "cell_type": "code",
   "execution_count": 134,
   "metadata": {},
   "outputs": [
    {
     "data": {
      "text/plain": [
       "[<matplotlib.lines.Line2D at 0x289f0942e50>]"
      ]
     },
     "execution_count": 134,
     "metadata": {},
     "output_type": "execute_result"
    },
    {
     "data": {
      "image/png": "[encoded data removed]",
      "text/plain": [
       "<Figure size 640x480 with 1 Axes>"
      ]
     },
     "metadata": {},
     "output_type": "display_data"
    }
   ],
   "source": [
    "plt.close()\n",
    "%matplotlib inline\n",
    "\n",
    "plt.plot(cost_histroty)\n",
    "plt.plot(cost_test_history)"
   ]
  },
  {
   "cell_type": "code",
   "execution_count": null,
   "metadata": {},
   "outputs": [],
   "source": [
    "# torch.save(model.state_dict(), './models/best_model_linear_arch1.pt')"
   ]
  },
  {
   "cell_type": "code",
   "execution_count": 48,
   "metadata": {},
   "outputs": [
    {
     "name": "stdout",
     "output_type": "stream",
     "text": [
      "Testing Accuracy: 0.89. Cost: 0.2777206003665924\n"
     ]
    }
   ],
   "source": [
    "with torch.no_grad():\n",
    "  test_outputs = model(X_test)\n",
    "  cost = cost_fn(test_outputs, y_test)\n",
    "  labels = torch.tensor([round(val.item()) for val in test_outputs]).reshape(-1, 1).to(device)\n",
    "  accuracy = (labels == y_test).sum().item() / y_test.size(0)\n",
    "  print(f'Testing Accuracy: {accuracy}. Cost: {cost}')"
   ]
  },
  {
   "cell_type": "code",
   "execution_count": 49,
   "metadata": {},
   "outputs": [
    {
     "name": "stdout",
     "output_type": "stream",
     "text": [
      "Training Accuracy: 0.898625. Cost: 0.25645071268081665\n"
     ]
    }
   ],
   "source": [
    "with torch.no_grad():\n",
    "  train_outputs = model(X_train)\n",
    "  cost = cost_fn(train_outputs, y_train)\n",
    "  labels = torch.tensor([round(val.item()) for val in train_outputs]).reshape(-1, 1).to(device)\n",
    "  accuracy = (labels == y_train).sum().item() / y_train.size(0)\n",
    "  print(f'Training Accuracy: {accuracy}. Cost: {cost}')"
   ]
  },
  {
   "cell_type": "code",
   "execution_count": 129,
   "metadata": {},
   "outputs": [
    {
     "name": "stdout",
     "output_type": "stream",
     "text": [
      "Testing Accuracy: 0.814. Cost: 0.42157837748527527\n"
     ]
    }
   ],
   "source": [
    "with torch.no_grad():\n",
    "  test_outputs = model(X_test)\n",
    "  cost = cost_fn(test_outputs, y_test)\n",
    "  labels = torch.tensor([round(val.item()) for val in test_outputs]).reshape(-1, 1).to(device)\n",
    "  accuracy = (labels == y_test).sum().item() / y_test.size(0)\n",
    "  print(f'Testing Accuracy: {accuracy}. Cost: {cost}')"
   ]
  },
  {
   "cell_type": "code",
   "execution_count": 119,
   "metadata": {},
   "outputs": [
    {
     "name": "stdout",
     "output_type": "stream",
     "text": [
      "Testing Accuracy: 0.8015. Cost: 0.4482082724571228\n"
     ]
    }
   ],
   "source": [
    "with torch.no_grad():\n",
    "  test_outputs = model(X_test)\n",
    "  cost = cost_fn(test_outputs, y_test)\n",
    "  labels = torch.tensor([round(val.item()) for val in test_outputs]).reshape(-1, 1).to(device)\n",
    "  accuracy = (labels == y_test).sum().item() / y_test.size(0)\n",
    "  print(f'Testing Accuracy: {accuracy}. Cost: {cost}')"
   ]
  },
  {
   "cell_type": "code",
   "execution_count": 105,
   "metadata": {},
   "outputs": [
    {
     "name": "stdout",
     "output_type": "stream",
     "text": [
      "Testing Accuracy: 0.811. Cost: 0.42899155616760254\n"
     ]
    }
   ],
   "source": [
    "with torch.no_grad():\n",
    "  test_outputs = model(X_test)\n",
    "  cost = cost_fn(test_outputs, y_test)\n",
    "  labels = torch.tensor([round(val.item()) for val in test_outputs]).reshape(-1, 1).to(device)\n",
    "  accuracy = (labels == y_test).sum().item() / y_test.size(0)\n",
    "  print(f'Testing Accuracy: {accuracy}. Cost: {cost}')"
   ]
  },
  {
   "cell_type": "code",
   "execution_count": 99,
   "metadata": {},
   "outputs": [
    {
     "name": "stdout",
     "output_type": "stream",
     "text": [
      "Testing Accuracy: 0.796. Cost: 0.45732900500297546\n"
     ]
    }
   ],
   "source": [
    "with torch.no_grad():\n",
    "  test_outputs = model(X_test)\n",
    "  cost = cost_fn(test_outputs, y_test)\n",
    "  labels = torch.tensor([round(val.item()) for val in test_outputs]).reshape(-1, 1).to(device)\n",
    "  accuracy = (labels == y_test).sum().item() / y_test.size(0)\n",
    "  print(f'Testing Accuracy: {accuracy}. Cost: {cost}')"
   ]
  }
 ],
 "metadata": {
  "kernelspec": {
   "display_name": ".ml-pytorch1",
   "language": "python",
   "name": "python3"
  },
  "language_info": {
   "codemirror_mode": {
    "name": "ipython",
    "version": 3
   },
   "file_extension": ".py",
   "mimetype": "text/x-python",
   "name": "python",
   "nbconvert_exporter": "python",
   "pygments_lexer": "ipython3",
   "version": "3.11.6"
  }
 },
 "nbformat": 4,
 "nbformat_minor": 2
}
