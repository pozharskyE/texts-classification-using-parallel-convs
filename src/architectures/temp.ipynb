{
 "cells": [
  {
   "cell_type": "code",
   "execution_count": 1,
   "metadata": {},
   "outputs": [],
   "source": [
    "from paral_conv_linear_arch1 import Parallel1DConvsLinearClass"
   ]
  },
  {
   "cell_type": "code",
   "execution_count": 2,
   "metadata": {},
   "outputs": [],
   "source": [
    "model = Parallel1DConvsLinearClass(input_channels=300)"
   ]
  },
  {
   "cell_type": "code",
   "execution_count": 3,
   "metadata": {},
   "outputs": [
    {
     "data": {
      "text/plain": [
       "Parallel1DConvsLinearClass(\n",
       "  (paral_1dconvs_max_linear_relu): Sequential(\n",
       "    (0): Parallel1DConvsLayer(\n",
       "      (multiple_1d_convs): ModuleList(\n",
       "        (0): Sequential(\n",
       "          (0): Conv1d(300, 64, kernel_size=(3,), stride=(1,), padding=(1,))\n",
       "          (1): AdaptiveMaxPool1d(output_size=1)\n",
       "        )\n",
       "        (1): Sequential(\n",
       "          (0): Conv1d(300, 64, kernel_size=(4,), stride=(1,), padding=(2,))\n",
       "          (1): AdaptiveMaxPool1d(output_size=1)\n",
       "        )\n",
       "        (2): Sequential(\n",
       "          (0): Conv1d(300, 64, kernel_size=(5,), stride=(1,), padding=(2,))\n",
       "          (1): AdaptiveMaxPool1d(output_size=1)\n",
       "        )\n",
       "      )\n",
       "    )\n",
       "    (1): Flatten(start_dim=1, end_dim=-1)\n",
       "    (2): LinearLayersList(\n",
       "      (linear_layers_list): ModuleList(\n",
       "        (0): Linear(in_features=192, out_features=256, bias=True)\n",
       "        (1): ReLU()\n",
       "        (2): Linear(in_features=256, out_features=256, bias=True)\n",
       "        (3): ReLU()\n",
       "        (4): Linear(in_features=256, out_features=1, bias=True)\n",
       "        (5): ReLU()\n",
       "      )\n",
       "    )\n",
       "  )\n",
       "  (output_activation): Sigmoid()\n",
       ")"
      ]
     },
     "execution_count": 3,
     "metadata": {},
     "output_type": "execute_result"
    }
   ],
   "source": [
    "model"
   ]
  },
  {
   "cell_type": "code",
   "execution_count": 3,
   "metadata": {},
   "outputs": [
    {
     "data": {
      "text/plain": [
       "Parallel1DConvsLinearClass(\n",
       "  (paral_1dconvs_max_linear_relu): Sequential(\n",
       "    (0): Parallel1DConvsLayer(\n",
       "      (multiple_1d_convs): ModuleList(\n",
       "        (0): Sequential(\n",
       "          (0): Conv1d(300, 64, kernel_size=(3,), stride=(1,), padding=(1,))\n",
       "          (1): AdaptiveMaxPool1d(output_size=1)\n",
       "        )\n",
       "        (1): Sequential(\n",
       "          (0): Conv1d(300, 64, kernel_size=(4,), stride=(1,), padding=(2,))\n",
       "          (1): AdaptiveMaxPool1d(output_size=1)\n",
       "        )\n",
       "        (2): Sequential(\n",
       "          (0): Conv1d(300, 64, kernel_size=(5,), stride=(1,), padding=(2,))\n",
       "          (1): AdaptiveMaxPool1d(output_size=1)\n",
       "        )\n",
       "      )\n",
       "    )\n",
       "    (1): Flatten(start_dim=1, end_dim=-1)\n",
       "    (2): LinearLayersList(\n",
       "      (linear_layers_list): ModuleList(\n",
       "        (0): Sequential(\n",
       "          (0): Linear(in_features=192, out_features=256, bias=True)\n",
       "          (1): ReLU()\n",
       "        )\n",
       "        (1): Sequential(\n",
       "          (0): Linear(in_features=256, out_features=256, bias=True)\n",
       "          (1): ReLU()\n",
       "        )\n",
       "        (2): Sequential(\n",
       "          (0): Linear(in_features=256, out_features=1, bias=True)\n",
       "          (1): ReLU()\n",
       "        )\n",
       "      )\n",
       "    )\n",
       "  )\n",
       "  (output_activation): Sigmoid()\n",
       ")"
      ]
     },
     "execution_count": 3,
     "metadata": {},
     "output_type": "execute_result"
    }
   ],
   "source": [
    "model"
   ]
  },
  {
   "cell_type": "code",
   "execution_count": 3,
   "metadata": {},
   "outputs": [
    {
     "data": {
      "text/plain": [
       "Parallel1DConvsLinearClass(\n",
       "  (output_activation): Sigmoid()\n",
       "  (paral_1dconvs_max_linear_relu): Sequential(\n",
       "    (0): Parallel1DConvsLayer(\n",
       "      (multiple_1d_convs): ModuleList(\n",
       "        (0): Conv1d(300, 64, kernel_size=(3,), stride=(1,), padding=(1,))\n",
       "        (1): AdaptiveMaxPool1d(output_size=1)\n",
       "        (2): Conv1d(300, 64, kernel_size=(4,), stride=(1,), padding=(2,))\n",
       "        (3): AdaptiveMaxPool1d(output_size=1)\n",
       "        (4): Conv1d(300, 64, kernel_size=(5,), stride=(1,), padding=(2,))\n",
       "        (5): AdaptiveMaxPool1d(output_size=1)\n",
       "      )\n",
       "    )\n",
       "    (1): Flatten(start_dim=1, end_dim=-1)\n",
       "    (2): LinearLayersList(\n",
       "      (linear_layers_list): ModuleList(\n",
       "        (0): Sequential(\n",
       "          (0): Linear(in_features=192, out_features=256, bias=True)\n",
       "          (1): ReLU()\n",
       "        )\n",
       "        (1): Sequential(\n",
       "          (0): Linear(in_features=256, out_features=256, bias=True)\n",
       "          (1): ReLU()\n",
       "        )\n",
       "        (2): Sequential(\n",
       "          (0): Linear(in_features=256, out_features=1, bias=True)\n",
       "          (1): ReLU()\n",
       "        )\n",
       "      )\n",
       "    )\n",
       "  )\n",
       ")"
      ]
     },
     "execution_count": 3,
     "metadata": {},
     "output_type": "execute_result"
    }
   ],
   "source": [
    "model"
   ]
  },
  {
   "cell_type": "code",
   "execution_count": 3,
   "metadata": {},
   "outputs": [
    {
     "data": {
      "text/plain": [
       "Parallel1DConvsLinearClass(\n",
       "  (output_activation): Sigmoid()\n",
       "  (paral_1dconvs_max_linear_relu): Sequential(\n",
       "    (0): Parallel1DConvsLayer(\n",
       "      (multiple_1d_convs): ModuleList(\n",
       "        (0): Sequential(\n",
       "          (0): Conv1d(300, 64, kernel_size=(3,), stride=(1,), padding=(1,))\n",
       "          (1): AdaptiveMaxPool1d(output_size=1)\n",
       "        )\n",
       "        (1): Sequential(\n",
       "          (0): Conv1d(300, 64, kernel_size=(4,), stride=(1,), padding=(2,))\n",
       "          (1): AdaptiveMaxPool1d(output_size=1)\n",
       "        )\n",
       "        (2): Sequential(\n",
       "          (0): Conv1d(300, 64, kernel_size=(5,), stride=(1,), padding=(2,))\n",
       "          (1): AdaptiveMaxPool1d(output_size=1)\n",
       "        )\n",
       "      )\n",
       "    )\n",
       "    (1): Flatten(start_dim=1, end_dim=-1)\n",
       "    (2): LinearLayersList(\n",
       "      (linear_layers_list): ModuleList(\n",
       "        (0): Sequential(\n",
       "          (0): Linear(in_features=192, out_features=256, bias=True)\n",
       "          (1): ReLU()\n",
       "        )\n",
       "        (1): Sequential(\n",
       "          (0): Linear(in_features=256, out_features=256, bias=True)\n",
       "          (1): ReLU()\n",
       "        )\n",
       "        (2): Sequential(\n",
       "          (0): Linear(in_features=256, out_features=1, bias=True)\n",
       "          (1): ReLU()\n",
       "        )\n",
       "      )\n",
       "    )\n",
       "  )\n",
       ")"
      ]
     },
     "execution_count": 3,
     "metadata": {},
     "output_type": "execute_result"
    }
   ],
   "source": [
    "model"
   ]
  }
 ],
 "metadata": {
  "kernelspec": {
   "display_name": ".ml-pytorch1",
   "language": "python",
   "name": "python3"
  },
  "language_info": {
   "codemirror_mode": {
    "name": "ipython",
    "version": 3
   },
   "file_extension": ".py",
   "mimetype": "text/x-python",
   "name": "python",
   "nbconvert_exporter": "python",
   "pygments_lexer": "ipython3",
   "version": "3.11.6"
  }
 },
 "nbformat": 4,
 "nbformat_minor": 2
}
